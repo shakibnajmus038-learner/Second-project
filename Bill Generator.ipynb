{
 "cells": [
  {
   "cell_type": "code",
   "execution_count": 1,
   "id": "3bf23ff2-ce5f-4046-8888-d6211f7eea4d",
   "metadata": {},
   "outputs": [],
   "source": [
    "import mysql"
   ]
  },
  {
   "cell_type": "code",
   "execution_count": 2,
   "id": "c8a3c962-c8ce-403a-8921-8e1124e0c07c",
   "metadata": {},
   "outputs": [],
   "source": [
    "import automobile"
   ]
  },
  {
   "cell_type": "code",
   "execution_count": 3,
   "id": "d76514ac-d62a-4ae4-b2a2-527f583edfde",
   "metadata": {
    "scrolled": true
   },
   "outputs": [
    {
     "name": "stdout",
     "output_type": "stream",
     "text": [
      "Connection established.\n",
      "_________________________\n",
      "1. product Entry\n",
      "2.product Deletion\n",
      "3.product Updation\n",
      "4.Search Records\n",
      "5.Search Product Details\n",
      "6.Generate Bill\n",
      "7. Exit\n",
      "_________________________\n"
     ]
    },
    {
     "name": "stdin",
     "output_type": "stream",
     "text": [
      "Enter your choice 6\n"
     ]
    },
    {
     "name": "stdout",
     "output_type": "stream",
     "text": [
      "Enter product Ids and quantity (type 'done' to  finish):\n"
     ]
    },
    {
     "name": "stdin",
     "output_type": "stream",
     "text": [
      "Enter product Id 102\n",
      "Enter quantity: 2\n",
      "Enter product Id 106\n",
      "Enter quantity: 1\n",
      "Enter product Id 108\n",
      "Enter quantity: 3\n",
      "Enter product Id 107\n",
      "Enter quantity: 4\n",
      "Enter product Id done\n"
     ]
    },
    {
     "name": "stdout",
     "output_type": "stream",
     "text": [
      "\n",
      "\n",
      "\n",
      "\n",
      "\n",
      "\n",
      "                         \u001b[1mSHAKIB AUTOMOBILE\u001b[0m\n",
      "bill no 1635                                        date:14-04-25\n",
      "----------------------------------------------------------------------\n",
      "\u001b[1msr.no   name           price          quantity       amount         \u001b[0m\n",
      "----------------------------------------------------------------------\n",
      "1      Sunny           2300000.00      2               4600000.00\n",
      "2      Amaze           750000.00       1               750000.00\n",
      "3      Splendar        60000.00        3               180000.00\n",
      "4      BMW 320         5000000.00      4               20000000.00\n",
      "----------------------------------------------------------------------\n",
      "                                         sub_total =  25530000.00\n",
      "                                         gst(5.5%) =  1404150.00\n",
      "                                         grand_total =  26934150.00\n",
      "\n",
      "\n",
      "\n",
      "\n",
      "\n",
      "\n",
      "_________________________\n",
      "1. product Entry\n",
      "2.product Deletion\n",
      "3.product Updation\n",
      "4.Search Records\n",
      "5.Search Product Details\n",
      "6.Generate Bill\n",
      "7. Exit\n",
      "_________________________\n"
     ]
    },
    {
     "name": "stdin",
     "output_type": "stream",
     "text": [
      "Enter your choice 7\n"
     ]
    },
    {
     "name": "stdout",
     "output_type": "stream",
     "text": [
      "Exit\n",
      "connection close\n"
     ]
    }
   ],
   "source": [
    "import automobile as amb \n",
    "    \n",
    "connect = amb.setup_connection()\n",
    "if not connect:\n",
    "    print('Failed to connect to database server.')\n",
    "else:\n",
    "    \n",
    "    print('Connection established.')\n",
    "    cursor = connect.cursor()\n",
    "    amb.setup_database(connect,cursor)\n",
    "#amb.product_entry(connect,cursor)\n",
    "#amb.product_deletion(connect,cursor)\n",
    "try:\n",
    "    while True:\n",
    "        print('_'*25)\n",
    "        print('1. product Entry')\n",
    "        print('2.product Deletion')\n",
    "        print('3.product Updation')\n",
    "        print('4.Search Records')\n",
    "        print('5.Search Product Details')\n",
    "        print('6.Generate Bill')\n",
    "        print('7. Exit')\n",
    "        print('_'*25)\n",
    "\n",
    "        ch=int(input('Enter your choice'))\n",
    "        \n",
    "        if ch==1:\n",
    "            amb.product_entry(connect,cursor)\n",
    "\n",
    "        elif ch==2:\n",
    "            amb.product_deletion(connect,cursor)\n",
    "\n",
    "        elif ch==3:\n",
    "            amb.product_updation(connect,cursor)\n",
    "\n",
    "        elif ch==4:\n",
    "            amb.search_record(connect,cursor)\n",
    "\n",
    "        elif ch==5:\n",
    "            amb.product_details(connect,cursor)\n",
    "\n",
    "        elif ch==6:\n",
    "            amb.generate_bill(connect,cursor)\n",
    "            \n",
    "        elif ch==7:\n",
    "            print('Exit')\n",
    "\n",
    "            break\n",
    "\n",
    "finally:\n",
    "    cursor.close()\n",
    "    connect.close()\n",
    "    print('connection close')\n",
    "            \n",
    "\n",
    "\n",
    "\n",
    "            \n",
    "\n",
    " "
   ]
  },
  {
   "cell_type": "markdown",
   "id": "ed74d229-3944-4463-b0fc-f33d3b67f8c5",
   "metadata": {},
   "source": [
    "###### "
   ]
  }
 ],
 "metadata": {
  "kernelspec": {
   "display_name": "Python 3 (ipykernel)",
   "language": "python",
   "name": "python3"
  },
  "language_info": {
   "codemirror_mode": {
    "name": "ipython",
    "version": 3
   },
   "file_extension": ".py",
   "mimetype": "text/x-python",
   "name": "python",
   "nbconvert_exporter": "python",
   "pygments_lexer": "ipython3",
   "version": "3.12.4"
  }
 },
 "nbformat": 4,
 "nbformat_minor": 5
}
